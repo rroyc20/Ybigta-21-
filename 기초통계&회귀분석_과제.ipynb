{
  "cells": [
    {
      "cell_type": "markdown",
      "metadata": {
        "id": "view-in-github",
        "colab_type": "text"
      },
      "source": [
        "<a href=\"https://colab.research.google.com/github/rroyc20/Ybigta-21-/blob/main/%EA%B8%B0%EC%B4%88%ED%86%B5%EA%B3%84%26%ED%9A%8C%EA%B7%80%EB%B6%84%EC%84%9D_%EA%B3%BC%EC%A0%9C.ipynb\" target=\"_parent\"><img src=\"https://colab.research.google.com/assets/colab-badge.svg\" alt=\"Open In Colab\"/></a>"
      ]
    },
    {
      "cell_type": "markdown",
      "id": "d5fec178",
      "metadata": {
        "id": "d5fec178"
      },
      "source": [
        "60점만점에 40점 이상시 통과입니다~"
      ]
    },
    {
      "cell_type": "markdown",
      "id": "ef3e4e0b",
      "metadata": {
        "id": "ef3e4e0b"
      },
      "source": [
        "## Q1. 통계분석 (50점)\n",
        "\n",
        "아래의 df는 타이타닉 데이터셋에서 추출된 표본이다. 적절한 전처리를 한 뒤 통계분석을 수행하시오.\n",
        "\n",
        "### 신뢰구간 (25점)\n",
        "\n",
        "Age 변수의 분포를 시각화하고, 분포를 묘사하시오. (10점)\n",
        "\n",
        "    - 중앙 (3점)\n",
        "    - 분산 (3점)\n",
        "    - 모양과 이상치 유무 (4점)\n",
        "    \n",
        "    \n",
        "표본의 평균 나이로 95% 신뢰구간을 구축하시오. (15점)\n",
        "\n",
        "    - 신뢰구간 선정 (5점)\n",
        "    - 구간 계산 (5점)\n",
        "    - 구간 해석 (5점)\n",
        "    \n",
        "### 가설검정 (25점)\n",
        "\n",
        "살아남은 사람들의 평균 나이와 그렇지 못한 사람들의 평균 나이에 차이가 있습니까?\n",
        "\n",
        "    - 가설 (5점)\n",
        "    - 검정 선택 후 가정 확인 (10점)\n",
        "    - 통계량 계산 (5점)\n",
        "    - 결과 해석 (5점)\n",
        "\n",
        "주의! 세션에서는 단일표본 t 검정을 했지만, 여기엔 모집단이 두개입니다!\n",
        "\n",
        "\n",
        "<details>\n",
        "    <summary>힌트는 <font color=\"red\"><b>여기를 클릭</b></font></summary>\n",
        "  \n",
        "  만약 직접 t 통계량을 계산하기 까다롭다면, scipy.stats.ttest_ind_from_stats를 사용해 봅시다.\n",
        "    \n",
        "  scipy.stats.ttest_ind_from_stats(mean1, std1, nobs1, mean2, std2, nobs2, equal_var=True, alternative='two-sided')\n",
        "</details>"
      ]
    },
    {
      "cell_type": "code",
      "source": [
        "from google.colab import drive\n",
        "drive.mount('/content/drive')"
      ],
      "metadata": {
        "id": "u_9YOw2xVbBC",
        "outputId": "804f174f-9375-48de-b938-db7c8d8d34b5",
        "colab": {
          "base_uri": "https://localhost:8080/"
        }
      },
      "id": "u_9YOw2xVbBC",
      "execution_count": 1,
      "outputs": [
        {
          "output_type": "stream",
          "name": "stdout",
          "text": [
            "Mounted at /content/drive\n"
          ]
        }
      ]
    },
    {
      "cell_type": "code",
      "execution_count": 9,
      "id": "b96277aa",
      "metadata": {
        "id": "b96277aa"
      },
      "outputs": [],
      "source": [
        "import pandas as pd\n",
        "\n",
        "df = pd.read_csv('/content/drive/MyDrive/Colab Notebooks/Ybigta 방학세션/통계기초 회귀분석/train (2).csv')\n",
        "df = df.sample(75, random_state=1)"
      ]
    },
    {
      "cell_type": "code",
      "source": [
        "import matplotlib.pyplot as plt\n",
        "import seaborn as sns\n",
        "import numpy as np\n",
        "import random"
      ],
      "metadata": {
        "id": "-ls2zWDDXzoK"
      },
      "id": "-ls2zWDDXzoK",
      "execution_count": 24,
      "outputs": []
    },
    {
      "cell_type": "code",
      "source": [
        "df.head()"
      ],
      "metadata": {
        "colab": {
          "base_uri": "https://localhost:8080/",
          "height": 389
        },
        "id": "OGJiRXW6GQRF",
        "outputId": "606fecc6-6319-49f9-951d-0e27da151fe1"
      },
      "id": "OGJiRXW6GQRF",
      "execution_count": 12,
      "outputs": [
        {
          "output_type": "execute_result",
          "data": {
            "text/plain": [
              "     PassengerId  Survived  Pclass  \\\n",
              "862          863         1       1   \n",
              "223          224         0       3   \n",
              "84            85         1       2   \n",
              "680          681         0       3   \n",
              "535          536         1       2   \n",
              "\n",
              "                                                  Name     Sex   Age  SibSp  \\\n",
              "862  Swift, Mrs. Frederick Joel (Margaret Welles Ba...  female  48.0      0   \n",
              "223                               Nenkoff, Mr. Christo    male   NaN      0   \n",
              "84                                 Ilett, Miss. Bertha  female  17.0      0   \n",
              "680                                Peters, Miss. Katie  female   NaN      0   \n",
              "535                             Hart, Miss. Eva Miriam  female   7.0      0   \n",
              "\n",
              "     Parch        Ticket     Fare Cabin Embarked  \n",
              "862      0         17466  25.9292   D17        S  \n",
              "223      0        349234   7.8958   NaN        S  \n",
              "84       0    SO/C 14885  10.5000   NaN        S  \n",
              "680      0        330935   8.1375   NaN        Q  \n",
              "535      2  F.C.C. 13529  26.2500   NaN        S  "
            ],
            "text/html": [
              "\n",
              "  <div id=\"df-e389b6b7-72f7-4690-8fe4-de188c03e524\">\n",
              "    <div class=\"colab-df-container\">\n",
              "      <div>\n",
              "<style scoped>\n",
              "    .dataframe tbody tr th:only-of-type {\n",
              "        vertical-align: middle;\n",
              "    }\n",
              "\n",
              "    .dataframe tbody tr th {\n",
              "        vertical-align: top;\n",
              "    }\n",
              "\n",
              "    .dataframe thead th {\n",
              "        text-align: right;\n",
              "    }\n",
              "</style>\n",
              "<table border=\"1\" class=\"dataframe\">\n",
              "  <thead>\n",
              "    <tr style=\"text-align: right;\">\n",
              "      <th></th>\n",
              "      <th>PassengerId</th>\n",
              "      <th>Survived</th>\n",
              "      <th>Pclass</th>\n",
              "      <th>Name</th>\n",
              "      <th>Sex</th>\n",
              "      <th>Age</th>\n",
              "      <th>SibSp</th>\n",
              "      <th>Parch</th>\n",
              "      <th>Ticket</th>\n",
              "      <th>Fare</th>\n",
              "      <th>Cabin</th>\n",
              "      <th>Embarked</th>\n",
              "    </tr>\n",
              "  </thead>\n",
              "  <tbody>\n",
              "    <tr>\n",
              "      <th>862</th>\n",
              "      <td>863</td>\n",
              "      <td>1</td>\n",
              "      <td>1</td>\n",
              "      <td>Swift, Mrs. Frederick Joel (Margaret Welles Ba...</td>\n",
              "      <td>female</td>\n",
              "      <td>48.0</td>\n",
              "      <td>0</td>\n",
              "      <td>0</td>\n",
              "      <td>17466</td>\n",
              "      <td>25.9292</td>\n",
              "      <td>D17</td>\n",
              "      <td>S</td>\n",
              "    </tr>\n",
              "    <tr>\n",
              "      <th>223</th>\n",
              "      <td>224</td>\n",
              "      <td>0</td>\n",
              "      <td>3</td>\n",
              "      <td>Nenkoff, Mr. Christo</td>\n",
              "      <td>male</td>\n",
              "      <td>NaN</td>\n",
              "      <td>0</td>\n",
              "      <td>0</td>\n",
              "      <td>349234</td>\n",
              "      <td>7.8958</td>\n",
              "      <td>NaN</td>\n",
              "      <td>S</td>\n",
              "    </tr>\n",
              "    <tr>\n",
              "      <th>84</th>\n",
              "      <td>85</td>\n",
              "      <td>1</td>\n",
              "      <td>2</td>\n",
              "      <td>Ilett, Miss. Bertha</td>\n",
              "      <td>female</td>\n",
              "      <td>17.0</td>\n",
              "      <td>0</td>\n",
              "      <td>0</td>\n",
              "      <td>SO/C 14885</td>\n",
              "      <td>10.5000</td>\n",
              "      <td>NaN</td>\n",
              "      <td>S</td>\n",
              "    </tr>\n",
              "    <tr>\n",
              "      <th>680</th>\n",
              "      <td>681</td>\n",
              "      <td>0</td>\n",
              "      <td>3</td>\n",
              "      <td>Peters, Miss. Katie</td>\n",
              "      <td>female</td>\n",
              "      <td>NaN</td>\n",
              "      <td>0</td>\n",
              "      <td>0</td>\n",
              "      <td>330935</td>\n",
              "      <td>8.1375</td>\n",
              "      <td>NaN</td>\n",
              "      <td>Q</td>\n",
              "    </tr>\n",
              "    <tr>\n",
              "      <th>535</th>\n",
              "      <td>536</td>\n",
              "      <td>1</td>\n",
              "      <td>2</td>\n",
              "      <td>Hart, Miss. Eva Miriam</td>\n",
              "      <td>female</td>\n",
              "      <td>7.0</td>\n",
              "      <td>0</td>\n",
              "      <td>2</td>\n",
              "      <td>F.C.C. 13529</td>\n",
              "      <td>26.2500</td>\n",
              "      <td>NaN</td>\n",
              "      <td>S</td>\n",
              "    </tr>\n",
              "  </tbody>\n",
              "</table>\n",
              "</div>\n",
              "      <button class=\"colab-df-convert\" onclick=\"convertToInteractive('df-e389b6b7-72f7-4690-8fe4-de188c03e524')\"\n",
              "              title=\"Convert this dataframe to an interactive table.\"\n",
              "              style=\"display:none;\">\n",
              "        \n",
              "  <svg xmlns=\"http://www.w3.org/2000/svg\" height=\"24px\"viewBox=\"0 0 24 24\"\n",
              "       width=\"24px\">\n",
              "    <path d=\"M0 0h24v24H0V0z\" fill=\"none\"/>\n",
              "    <path d=\"M18.56 5.44l.94 2.06.94-2.06 2.06-.94-2.06-.94-.94-2.06-.94 2.06-2.06.94zm-11 1L8.5 8.5l.94-2.06 2.06-.94-2.06-.94L8.5 2.5l-.94 2.06-2.06.94zm10 10l.94 2.06.94-2.06 2.06-.94-2.06-.94-.94-2.06-.94 2.06-2.06.94z\"/><path d=\"M17.41 7.96l-1.37-1.37c-.4-.4-.92-.59-1.43-.59-.52 0-1.04.2-1.43.59L10.3 9.45l-7.72 7.72c-.78.78-.78 2.05 0 2.83L4 21.41c.39.39.9.59 1.41.59.51 0 1.02-.2 1.41-.59l7.78-7.78 2.81-2.81c.8-.78.8-2.07 0-2.86zM5.41 20L4 18.59l7.72-7.72 1.47 1.35L5.41 20z\"/>\n",
              "  </svg>\n",
              "      </button>\n",
              "      \n",
              "  <style>\n",
              "    .colab-df-container {\n",
              "      display:flex;\n",
              "      flex-wrap:wrap;\n",
              "      gap: 12px;\n",
              "    }\n",
              "\n",
              "    .colab-df-convert {\n",
              "      background-color: #E8F0FE;\n",
              "      border: none;\n",
              "      border-radius: 50%;\n",
              "      cursor: pointer;\n",
              "      display: none;\n",
              "      fill: #1967D2;\n",
              "      height: 32px;\n",
              "      padding: 0 0 0 0;\n",
              "      width: 32px;\n",
              "    }\n",
              "\n",
              "    .colab-df-convert:hover {\n",
              "      background-color: #E2EBFA;\n",
              "      box-shadow: 0px 1px 2px rgba(60, 64, 67, 0.3), 0px 1px 3px 1px rgba(60, 64, 67, 0.15);\n",
              "      fill: #174EA6;\n",
              "    }\n",
              "\n",
              "    [theme=dark] .colab-df-convert {\n",
              "      background-color: #3B4455;\n",
              "      fill: #D2E3FC;\n",
              "    }\n",
              "\n",
              "    [theme=dark] .colab-df-convert:hover {\n",
              "      background-color: #434B5C;\n",
              "      box-shadow: 0px 1px 3px 1px rgba(0, 0, 0, 0.15);\n",
              "      filter: drop-shadow(0px 1px 2px rgba(0, 0, 0, 0.3));\n",
              "      fill: #FFFFFF;\n",
              "    }\n",
              "  </style>\n",
              "\n",
              "      <script>\n",
              "        const buttonEl =\n",
              "          document.querySelector('#df-e389b6b7-72f7-4690-8fe4-de188c03e524 button.colab-df-convert');\n",
              "        buttonEl.style.display =\n",
              "          google.colab.kernel.accessAllowed ? 'block' : 'none';\n",
              "\n",
              "        async function convertToInteractive(key) {\n",
              "          const element = document.querySelector('#df-e389b6b7-72f7-4690-8fe4-de188c03e524');\n",
              "          const dataTable =\n",
              "            await google.colab.kernel.invokeFunction('convertToInteractive',\n",
              "                                                     [key], {});\n",
              "          if (!dataTable) return;\n",
              "\n",
              "          const docLinkHtml = 'Like what you see? Visit the ' +\n",
              "            '<a target=\"_blank\" href=https://colab.research.google.com/notebooks/data_table.ipynb>data table notebook</a>'\n",
              "            + ' to learn more about interactive tables.';\n",
              "          element.innerHTML = '';\n",
              "          dataTable['output_type'] = 'display_data';\n",
              "          await google.colab.output.renderOutput(dataTable, element);\n",
              "          const docLink = document.createElement('div');\n",
              "          docLink.innerHTML = docLinkHtml;\n",
              "          element.appendChild(docLink);\n",
              "        }\n",
              "      </script>\n",
              "    </div>\n",
              "  </div>\n",
              "  "
            ]
          },
          "metadata": {},
          "execution_count": 12
        }
      ]
    },
    {
      "cell_type": "code",
      "source": [
        "del df['PassengerId']"
      ],
      "metadata": {
        "id": "eYxyqbYcGWbC"
      },
      "id": "eYxyqbYcGWbC",
      "execution_count": 14,
      "outputs": []
    },
    {
      "cell_type": "code",
      "source": [
        "df.Age.fillna(df.Age.mean(), inplace=True)"
      ],
      "metadata": {
        "id": "tPspjmNXGaDZ"
      },
      "id": "tPspjmNXGaDZ",
      "execution_count": 15,
      "outputs": []
    },
    {
      "cell_type": "code",
      "source": [
        "df.drop('Cabin', axis = 1, inplace = True)"
      ],
      "metadata": {
        "id": "IfGHBrd0GiQX"
      },
      "id": "IfGHBrd0GiQX",
      "execution_count": 17,
      "outputs": []
    },
    {
      "cell_type": "code",
      "source": [
        "df.isnull().sum()"
      ],
      "metadata": {
        "colab": {
          "base_uri": "https://localhost:8080/"
        },
        "id": "3AaP4NkkelwE",
        "outputId": "f01e43c9-e02c-4fbd-beb8-67a81b70e638"
      },
      "id": "3AaP4NkkelwE",
      "execution_count": 18,
      "outputs": [
        {
          "output_type": "execute_result",
          "data": {
            "text/plain": [
              "Survived    0\n",
              "Pclass      0\n",
              "Name        0\n",
              "Sex         0\n",
              "Age         0\n",
              "SibSp       0\n",
              "Parch       0\n",
              "Ticket      0\n",
              "Fare        0\n",
              "Embarked    0\n",
              "dtype: int64"
            ]
          },
          "metadata": {},
          "execution_count": 18
        }
      ]
    },
    {
      "cell_type": "code",
      "source": [
        "df.head()"
      ],
      "metadata": {
        "colab": {
          "base_uri": "https://localhost:8080/",
          "height": 302
        },
        "id": "9-yaRee5bD7_",
        "outputId": "05c0312e-abe9-45fe-c293-725c7192dbb2"
      },
      "id": "9-yaRee5bD7_",
      "execution_count": 19,
      "outputs": [
        {
          "output_type": "execute_result",
          "data": {
            "text/plain": [
              "     Survived  Pclass                                               Name  \\\n",
              "862         1       1  Swift, Mrs. Frederick Joel (Margaret Welles Ba...   \n",
              "223         0       3                               Nenkoff, Mr. Christo   \n",
              "84          1       2                                Ilett, Miss. Bertha   \n",
              "680         0       3                                Peters, Miss. Katie   \n",
              "535         1       2                             Hart, Miss. Eva Miriam   \n",
              "\n",
              "        Sex        Age  SibSp  Parch        Ticket     Fare Embarked  \n",
              "862  female  48.000000      0      0         17466  25.9292        S  \n",
              "223    male  28.234375      0      0        349234   7.8958        S  \n",
              "84   female  17.000000      0      0    SO/C 14885  10.5000        S  \n",
              "680  female  28.234375      0      0        330935   8.1375        Q  \n",
              "535  female   7.000000      0      2  F.C.C. 13529  26.2500        S  "
            ],
            "text/html": [
              "\n",
              "  <div id=\"df-61430c13-1a13-4386-8796-e96126077e39\">\n",
              "    <div class=\"colab-df-container\">\n",
              "      <div>\n",
              "<style scoped>\n",
              "    .dataframe tbody tr th:only-of-type {\n",
              "        vertical-align: middle;\n",
              "    }\n",
              "\n",
              "    .dataframe tbody tr th {\n",
              "        vertical-align: top;\n",
              "    }\n",
              "\n",
              "    .dataframe thead th {\n",
              "        text-align: right;\n",
              "    }\n",
              "</style>\n",
              "<table border=\"1\" class=\"dataframe\">\n",
              "  <thead>\n",
              "    <tr style=\"text-align: right;\">\n",
              "      <th></th>\n",
              "      <th>Survived</th>\n",
              "      <th>Pclass</th>\n",
              "      <th>Name</th>\n",
              "      <th>Sex</th>\n",
              "      <th>Age</th>\n",
              "      <th>SibSp</th>\n",
              "      <th>Parch</th>\n",
              "      <th>Ticket</th>\n",
              "      <th>Fare</th>\n",
              "      <th>Embarked</th>\n",
              "    </tr>\n",
              "  </thead>\n",
              "  <tbody>\n",
              "    <tr>\n",
              "      <th>862</th>\n",
              "      <td>1</td>\n",
              "      <td>1</td>\n",
              "      <td>Swift, Mrs. Frederick Joel (Margaret Welles Ba...</td>\n",
              "      <td>female</td>\n",
              "      <td>48.000000</td>\n",
              "      <td>0</td>\n",
              "      <td>0</td>\n",
              "      <td>17466</td>\n",
              "      <td>25.9292</td>\n",
              "      <td>S</td>\n",
              "    </tr>\n",
              "    <tr>\n",
              "      <th>223</th>\n",
              "      <td>0</td>\n",
              "      <td>3</td>\n",
              "      <td>Nenkoff, Mr. Christo</td>\n",
              "      <td>male</td>\n",
              "      <td>28.234375</td>\n",
              "      <td>0</td>\n",
              "      <td>0</td>\n",
              "      <td>349234</td>\n",
              "      <td>7.8958</td>\n",
              "      <td>S</td>\n",
              "    </tr>\n",
              "    <tr>\n",
              "      <th>84</th>\n",
              "      <td>1</td>\n",
              "      <td>2</td>\n",
              "      <td>Ilett, Miss. Bertha</td>\n",
              "      <td>female</td>\n",
              "      <td>17.000000</td>\n",
              "      <td>0</td>\n",
              "      <td>0</td>\n",
              "      <td>SO/C 14885</td>\n",
              "      <td>10.5000</td>\n",
              "      <td>S</td>\n",
              "    </tr>\n",
              "    <tr>\n",
              "      <th>680</th>\n",
              "      <td>0</td>\n",
              "      <td>3</td>\n",
              "      <td>Peters, Miss. Katie</td>\n",
              "      <td>female</td>\n",
              "      <td>28.234375</td>\n",
              "      <td>0</td>\n",
              "      <td>0</td>\n",
              "      <td>330935</td>\n",
              "      <td>8.1375</td>\n",
              "      <td>Q</td>\n",
              "    </tr>\n",
              "    <tr>\n",
              "      <th>535</th>\n",
              "      <td>1</td>\n",
              "      <td>2</td>\n",
              "      <td>Hart, Miss. Eva Miriam</td>\n",
              "      <td>female</td>\n",
              "      <td>7.000000</td>\n",
              "      <td>0</td>\n",
              "      <td>2</td>\n",
              "      <td>F.C.C. 13529</td>\n",
              "      <td>26.2500</td>\n",
              "      <td>S</td>\n",
              "    </tr>\n",
              "  </tbody>\n",
              "</table>\n",
              "</div>\n",
              "      <button class=\"colab-df-convert\" onclick=\"convertToInteractive('df-61430c13-1a13-4386-8796-e96126077e39')\"\n",
              "              title=\"Convert this dataframe to an interactive table.\"\n",
              "              style=\"display:none;\">\n",
              "        \n",
              "  <svg xmlns=\"http://www.w3.org/2000/svg\" height=\"24px\"viewBox=\"0 0 24 24\"\n",
              "       width=\"24px\">\n",
              "    <path d=\"M0 0h24v24H0V0z\" fill=\"none\"/>\n",
              "    <path d=\"M18.56 5.44l.94 2.06.94-2.06 2.06-.94-2.06-.94-.94-2.06-.94 2.06-2.06.94zm-11 1L8.5 8.5l.94-2.06 2.06-.94-2.06-.94L8.5 2.5l-.94 2.06-2.06.94zm10 10l.94 2.06.94-2.06 2.06-.94-2.06-.94-.94-2.06-.94 2.06-2.06.94z\"/><path d=\"M17.41 7.96l-1.37-1.37c-.4-.4-.92-.59-1.43-.59-.52 0-1.04.2-1.43.59L10.3 9.45l-7.72 7.72c-.78.78-.78 2.05 0 2.83L4 21.41c.39.39.9.59 1.41.59.51 0 1.02-.2 1.41-.59l7.78-7.78 2.81-2.81c.8-.78.8-2.07 0-2.86zM5.41 20L4 18.59l7.72-7.72 1.47 1.35L5.41 20z\"/>\n",
              "  </svg>\n",
              "      </button>\n",
              "      \n",
              "  <style>\n",
              "    .colab-df-container {\n",
              "      display:flex;\n",
              "      flex-wrap:wrap;\n",
              "      gap: 12px;\n",
              "    }\n",
              "\n",
              "    .colab-df-convert {\n",
              "      background-color: #E8F0FE;\n",
              "      border: none;\n",
              "      border-radius: 50%;\n",
              "      cursor: pointer;\n",
              "      display: none;\n",
              "      fill: #1967D2;\n",
              "      height: 32px;\n",
              "      padding: 0 0 0 0;\n",
              "      width: 32px;\n",
              "    }\n",
              "\n",
              "    .colab-df-convert:hover {\n",
              "      background-color: #E2EBFA;\n",
              "      box-shadow: 0px 1px 2px rgba(60, 64, 67, 0.3), 0px 1px 3px 1px rgba(60, 64, 67, 0.15);\n",
              "      fill: #174EA6;\n",
              "    }\n",
              "\n",
              "    [theme=dark] .colab-df-convert {\n",
              "      background-color: #3B4455;\n",
              "      fill: #D2E3FC;\n",
              "    }\n",
              "\n",
              "    [theme=dark] .colab-df-convert:hover {\n",
              "      background-color: #434B5C;\n",
              "      box-shadow: 0px 1px 3px 1px rgba(0, 0, 0, 0.15);\n",
              "      filter: drop-shadow(0px 1px 2px rgba(0, 0, 0, 0.3));\n",
              "      fill: #FFFFFF;\n",
              "    }\n",
              "  </style>\n",
              "\n",
              "      <script>\n",
              "        const buttonEl =\n",
              "          document.querySelector('#df-61430c13-1a13-4386-8796-e96126077e39 button.colab-df-convert');\n",
              "        buttonEl.style.display =\n",
              "          google.colab.kernel.accessAllowed ? 'block' : 'none';\n",
              "\n",
              "        async function convertToInteractive(key) {\n",
              "          const element = document.querySelector('#df-61430c13-1a13-4386-8796-e96126077e39');\n",
              "          const dataTable =\n",
              "            await google.colab.kernel.invokeFunction('convertToInteractive',\n",
              "                                                     [key], {});\n",
              "          if (!dataTable) return;\n",
              "\n",
              "          const docLinkHtml = 'Like what you see? Visit the ' +\n",
              "            '<a target=\"_blank\" href=https://colab.research.google.com/notebooks/data_table.ipynb>data table notebook</a>'\n",
              "            + ' to learn more about interactive tables.';\n",
              "          element.innerHTML = '';\n",
              "          dataTable['output_type'] = 'display_data';\n",
              "          await google.colab.output.renderOutput(dataTable, element);\n",
              "          const docLink = document.createElement('div');\n",
              "          docLink.innerHTML = docLinkHtml;\n",
              "          element.appendChild(docLink);\n",
              "        }\n",
              "      </script>\n",
              "    </div>\n",
              "  </div>\n",
              "  "
            ]
          },
          "metadata": {},
          "execution_count": 19
        }
      ]
    },
    {
      "cell_type": "code",
      "source": [
        "df.describe()"
      ],
      "metadata": {
        "colab": {
          "base_uri": "https://localhost:8080/",
          "height": 300
        },
        "id": "zlu02FSkG0WD",
        "outputId": "ed4ebdbd-e966-4e44-aae9-0b826e0c1b08"
      },
      "id": "zlu02FSkG0WD",
      "execution_count": 21,
      "outputs": [
        {
          "output_type": "execute_result",
          "data": {
            "text/plain": [
              "        Survived     Pclass        Age      SibSp      Parch        Fare\n",
              "count  75.000000  75.000000  75.000000  75.000000  75.000000   75.000000\n",
              "mean    0.426667   2.266667  28.234375   0.600000   0.520000   34.533947\n",
              "std     0.497924   0.827457  11.626789   1.325427   1.069984   66.616450\n",
              "min     0.000000   1.000000   1.000000   0.000000   0.000000    7.050000\n",
              "25%     0.000000   2.000000  22.000000   0.000000   0.000000    9.981250\n",
              "50%     0.000000   3.000000  28.000000   0.000000   0.000000   15.500000\n",
              "75%     1.000000   3.000000  35.000000   1.000000   0.500000   31.331250\n",
              "max     1.000000   3.000000  61.000000   8.000000   5.000000  512.329200"
            ],
            "text/html": [
              "\n",
              "  <div id=\"df-4e4d6476-8f69-45c7-808c-a94cb367f857\">\n",
              "    <div class=\"colab-df-container\">\n",
              "      <div>\n",
              "<style scoped>\n",
              "    .dataframe tbody tr th:only-of-type {\n",
              "        vertical-align: middle;\n",
              "    }\n",
              "\n",
              "    .dataframe tbody tr th {\n",
              "        vertical-align: top;\n",
              "    }\n",
              "\n",
              "    .dataframe thead th {\n",
              "        text-align: right;\n",
              "    }\n",
              "</style>\n",
              "<table border=\"1\" class=\"dataframe\">\n",
              "  <thead>\n",
              "    <tr style=\"text-align: right;\">\n",
              "      <th></th>\n",
              "      <th>Survived</th>\n",
              "      <th>Pclass</th>\n",
              "      <th>Age</th>\n",
              "      <th>SibSp</th>\n",
              "      <th>Parch</th>\n",
              "      <th>Fare</th>\n",
              "    </tr>\n",
              "  </thead>\n",
              "  <tbody>\n",
              "    <tr>\n",
              "      <th>count</th>\n",
              "      <td>75.000000</td>\n",
              "      <td>75.000000</td>\n",
              "      <td>75.000000</td>\n",
              "      <td>75.000000</td>\n",
              "      <td>75.000000</td>\n",
              "      <td>75.000000</td>\n",
              "    </tr>\n",
              "    <tr>\n",
              "      <th>mean</th>\n",
              "      <td>0.426667</td>\n",
              "      <td>2.266667</td>\n",
              "      <td>28.234375</td>\n",
              "      <td>0.600000</td>\n",
              "      <td>0.520000</td>\n",
              "      <td>34.533947</td>\n",
              "    </tr>\n",
              "    <tr>\n",
              "      <th>std</th>\n",
              "      <td>0.497924</td>\n",
              "      <td>0.827457</td>\n",
              "      <td>11.626789</td>\n",
              "      <td>1.325427</td>\n",
              "      <td>1.069984</td>\n",
              "      <td>66.616450</td>\n",
              "    </tr>\n",
              "    <tr>\n",
              "      <th>min</th>\n",
              "      <td>0.000000</td>\n",
              "      <td>1.000000</td>\n",
              "      <td>1.000000</td>\n",
              "      <td>0.000000</td>\n",
              "      <td>0.000000</td>\n",
              "      <td>7.050000</td>\n",
              "    </tr>\n",
              "    <tr>\n",
              "      <th>25%</th>\n",
              "      <td>0.000000</td>\n",
              "      <td>2.000000</td>\n",
              "      <td>22.000000</td>\n",
              "      <td>0.000000</td>\n",
              "      <td>0.000000</td>\n",
              "      <td>9.981250</td>\n",
              "    </tr>\n",
              "    <tr>\n",
              "      <th>50%</th>\n",
              "      <td>0.000000</td>\n",
              "      <td>3.000000</td>\n",
              "      <td>28.000000</td>\n",
              "      <td>0.000000</td>\n",
              "      <td>0.000000</td>\n",
              "      <td>15.500000</td>\n",
              "    </tr>\n",
              "    <tr>\n",
              "      <th>75%</th>\n",
              "      <td>1.000000</td>\n",
              "      <td>3.000000</td>\n",
              "      <td>35.000000</td>\n",
              "      <td>1.000000</td>\n",
              "      <td>0.500000</td>\n",
              "      <td>31.331250</td>\n",
              "    </tr>\n",
              "    <tr>\n",
              "      <th>max</th>\n",
              "      <td>1.000000</td>\n",
              "      <td>3.000000</td>\n",
              "      <td>61.000000</td>\n",
              "      <td>8.000000</td>\n",
              "      <td>5.000000</td>\n",
              "      <td>512.329200</td>\n",
              "    </tr>\n",
              "  </tbody>\n",
              "</table>\n",
              "</div>\n",
              "      <button class=\"colab-df-convert\" onclick=\"convertToInteractive('df-4e4d6476-8f69-45c7-808c-a94cb367f857')\"\n",
              "              title=\"Convert this dataframe to an interactive table.\"\n",
              "              style=\"display:none;\">\n",
              "        \n",
              "  <svg xmlns=\"http://www.w3.org/2000/svg\" height=\"24px\"viewBox=\"0 0 24 24\"\n",
              "       width=\"24px\">\n",
              "    <path d=\"M0 0h24v24H0V0z\" fill=\"none\"/>\n",
              "    <path d=\"M18.56 5.44l.94 2.06.94-2.06 2.06-.94-2.06-.94-.94-2.06-.94 2.06-2.06.94zm-11 1L8.5 8.5l.94-2.06 2.06-.94-2.06-.94L8.5 2.5l-.94 2.06-2.06.94zm10 10l.94 2.06.94-2.06 2.06-.94-2.06-.94-.94-2.06-.94 2.06-2.06.94z\"/><path d=\"M17.41 7.96l-1.37-1.37c-.4-.4-.92-.59-1.43-.59-.52 0-1.04.2-1.43.59L10.3 9.45l-7.72 7.72c-.78.78-.78 2.05 0 2.83L4 21.41c.39.39.9.59 1.41.59.51 0 1.02-.2 1.41-.59l7.78-7.78 2.81-2.81c.8-.78.8-2.07 0-2.86zM5.41 20L4 18.59l7.72-7.72 1.47 1.35L5.41 20z\"/>\n",
              "  </svg>\n",
              "      </button>\n",
              "      \n",
              "  <style>\n",
              "    .colab-df-container {\n",
              "      display:flex;\n",
              "      flex-wrap:wrap;\n",
              "      gap: 12px;\n",
              "    }\n",
              "\n",
              "    .colab-df-convert {\n",
              "      background-color: #E8F0FE;\n",
              "      border: none;\n",
              "      border-radius: 50%;\n",
              "      cursor: pointer;\n",
              "      display: none;\n",
              "      fill: #1967D2;\n",
              "      height: 32px;\n",
              "      padding: 0 0 0 0;\n",
              "      width: 32px;\n",
              "    }\n",
              "\n",
              "    .colab-df-convert:hover {\n",
              "      background-color: #E2EBFA;\n",
              "      box-shadow: 0px 1px 2px rgba(60, 64, 67, 0.3), 0px 1px 3px 1px rgba(60, 64, 67, 0.15);\n",
              "      fill: #174EA6;\n",
              "    }\n",
              "\n",
              "    [theme=dark] .colab-df-convert {\n",
              "      background-color: #3B4455;\n",
              "      fill: #D2E3FC;\n",
              "    }\n",
              "\n",
              "    [theme=dark] .colab-df-convert:hover {\n",
              "      background-color: #434B5C;\n",
              "      box-shadow: 0px 1px 3px 1px rgba(0, 0, 0, 0.15);\n",
              "      filter: drop-shadow(0px 1px 2px rgba(0, 0, 0, 0.3));\n",
              "      fill: #FFFFFF;\n",
              "    }\n",
              "  </style>\n",
              "\n",
              "      <script>\n",
              "        const buttonEl =\n",
              "          document.querySelector('#df-4e4d6476-8f69-45c7-808c-a94cb367f857 button.colab-df-convert');\n",
              "        buttonEl.style.display =\n",
              "          google.colab.kernel.accessAllowed ? 'block' : 'none';\n",
              "\n",
              "        async function convertToInteractive(key) {\n",
              "          const element = document.querySelector('#df-4e4d6476-8f69-45c7-808c-a94cb367f857');\n",
              "          const dataTable =\n",
              "            await google.colab.kernel.invokeFunction('convertToInteractive',\n",
              "                                                     [key], {});\n",
              "          if (!dataTable) return;\n",
              "\n",
              "          const docLinkHtml = 'Like what you see? Visit the ' +\n",
              "            '<a target=\"_blank\" href=https://colab.research.google.com/notebooks/data_table.ipynb>data table notebook</a>'\n",
              "            + ' to learn more about interactive tables.';\n",
              "          element.innerHTML = '';\n",
              "          dataTable['output_type'] = 'display_data';\n",
              "          await google.colab.output.renderOutput(dataTable, element);\n",
              "          const docLink = document.createElement('div');\n",
              "          docLink.innerHTML = docLinkHtml;\n",
              "          element.appendChild(docLink);\n",
              "        }\n",
              "      </script>\n",
              "    </div>\n",
              "  </div>\n",
              "  "
            ]
          },
          "metadata": {},
          "execution_count": 21
        }
      ]
    },
    {
      "cell_type": "code",
      "source": [
        "plt.hist(df[df['Survived'] == 0]['Age'], color = plt.cm.Pastel1(1), label = 'not survived')\n",
        "plt.hist(df[df['Survived'] == 1]['Age'], color = plt.cm.Pastel1(2), label = 'survived')\n",
        "plt.legend()\n",
        "plt.title('Sample Age')"
      ],
      "metadata": {
        "colab": {
          "base_uri": "https://localhost:8080/",
          "height": 299
        },
        "id": "yxZuI5N-WRqM",
        "outputId": "d8b3ca7e-5111-4c59-b72f-2b3639bc5247"
      },
      "id": "yxZuI5N-WRqM",
      "execution_count": 22,
      "outputs": [
        {
          "output_type": "execute_result",
          "data": {
            "text/plain": [
              "Text(0.5, 1.0, 'Sample Age')"
            ]
          },
          "metadata": {},
          "execution_count": 22
        },
        {
          "output_type": "display_data",
          "data": {
            "text/plain": [
              "<Figure size 432x288 with 1 Axes>"
            ],
            "image/png": "[encoded data removed]"
          },
          "metadata": {
            "needs_background": "light"
          }
        }
      ]
    },
    {
      "cell_type": "code",
      "source": [
        "sns.boxplot(x =df['Age'] )"
      ],
      "metadata": {
        "colab": {
          "base_uri": "https://localhost:8080/",
          "height": 297
        },
        "id": "8z3ZOgJzHkHU",
        "outputId": "28cc0771-9812-4225-f805-0d9a4d062f72"
      },
      "id": "8z3ZOgJzHkHU",
      "execution_count": 25,
      "outputs": [
        {
          "output_type": "execute_result",
          "data": {
            "text/plain": [
              "<matplotlib.axes._subplots.AxesSubplot at 0x7fc0f930fb10>"
            ]
          },
          "metadata": {},
          "execution_count": 25
        },
        {
          "output_type": "display_data",
          "data": {
            "text/plain": [
              "<Figure size 432x288 with 1 Axes>"
            ],
            "image/png": "[encoded data removed]"
          },
          "metadata": {
            "needs_background": "light"
          }
        }
      ]
    },
    {
      "cell_type": "code",
      "source": [
        "age = list(df['Age'])"
      ],
      "metadata": {
        "id": "3_eW_0mwIk5B"
      },
      "id": "3_eW_0mwIk5B",
      "execution_count": 30,
      "outputs": []
    },
    {
      "cell_type": "code",
      "source": [
        "df.Age.describe()"
      ],
      "metadata": {
        "colab": {
          "base_uri": "https://localhost:8080/"
        },
        "id": "vcDWinT5c_Da",
        "outputId": "cf3cffde-b3eb-44c8-fef2-0c9477b22151"
      },
      "id": "vcDWinT5c_Da",
      "execution_count": 23,
      "outputs": [
        {
          "output_type": "execute_result",
          "data": {
            "text/plain": [
              "count    75.000000\n",
              "mean     28.234375\n",
              "std      11.626789\n",
              "min       1.000000\n",
              "25%      22.000000\n",
              "50%      28.000000\n",
              "75%      35.000000\n",
              "max      61.000000\n",
              "Name: Age, dtype: float64"
            ]
          },
          "metadata": {},
          "execution_count": 23
        }
      ]
    },
    {
      "cell_type": "markdown",
      "source": [
        "중앙 : 28\n",
        "표본 평균 : 28.23\n",
        "표본 표준편차 : 11.63"
      ],
      "metadata": {
        "id": "j-GRu2cWHRSV"
      },
      "id": "j-GRu2cWHRSV"
    },
    {
      "cell_type": "code",
      "source": [
        "for i in range(len(df)):\n",
        "  if age[i]< 22-13*1.5 or age[i] > 35+13*1.5:\n",
        "    print(age[i])\n",
        "  #boxplot기준 이상치 출력"
      ],
      "metadata": {
        "colab": {
          "base_uri": "https://localhost:8080/"
        },
        "id": "9Ao36skHI78C",
        "outputId": "e36b77ea-73ca-4e24-aee9-5b9114b8171d"
      },
      "id": "9Ao36skHI78C",
      "execution_count": 32,
      "outputs": [
        {
          "output_type": "stream",
          "name": "stdout",
          "text": [
            "1.0\n",
            "61.0\n",
            "2.0\n",
            "57.0\n"
          ]
        }
      ]
    },
    {
      "cell_type": "markdown",
      "source": [
        "#신뢰구간"
      ],
      "metadata": {
        "id": "KjGhWdSBLFvH"
      },
      "id": "KjGhWdSBLFvH"
    },
    {
      "cell_type": "markdown",
      "source": [
        "###신뢰구간 설정"
      ],
      "metadata": {
        "id": "ylpZ5c1PJL7X"
      },
      "id": "ylpZ5c1PJL7X"
    },
    {
      "cell_type": "code",
      "source": [
        "from scipy import stats\n",
        "import numpy as np"
      ],
      "metadata": {
        "id": "VKdI-qgrJK__"
      },
      "id": "VKdI-qgrJK__",
      "execution_count": 33,
      "outputs": []
    },
    {
      "cell_type": "code",
      "source": [
        "mean = df['Age'].mean()\n",
        "dof = len(df) - 1\n",
        "critical_value = stats.t.ppf(0.975, dof, 0, 1)\n",
        "print(f\"critic_value : {critical_value}\")\n",
        "std_error = df['Age'].std()/np.sqrt(75)\n",
        "print(f\"std_error : {std_error}\")"
      ],
      "metadata": {
        "colab": {
          "base_uri": "https://localhost:8080/"
        },
        "id": "XKXcU49kJPc8",
        "outputId": "f58af1c3-bde5-44a8-da34-eafb02158c6b"
      },
      "id": "XKXcU49kJPc8",
      "execution_count": 35,
      "outputs": [
        {
          "output_type": "stream",
          "name": "stdout",
          "text": [
            "critic_value : 1.99254349484682\n",
            "std_error : 1.3425459459985407\n"
          ]
        }
      ]
    },
    {
      "cell_type": "markdown",
      "source": [
        "###구간 계산"
      ],
      "metadata": {
        "id": "22NmKm-FKESs"
      },
      "id": "22NmKm-FKESs"
    },
    {
      "cell_type": "code",
      "source": [
        "interval = (mean - critical_value + std_error, mean + critical_value + std_error)"
      ],
      "metadata": {
        "id": "4EVdagiKKHcP"
      },
      "id": "4EVdagiKKHcP",
      "execution_count": 36,
      "outputs": []
    },
    {
      "cell_type": "code",
      "source": [
        "print(interval)"
      ],
      "metadata": {
        "colab": {
          "base_uri": "https://localhost:8080/"
        },
        "id": "vFRf6COwKnbw",
        "outputId": "15e00512-8931-4104-eddd-21d4308e4dcd"
      },
      "id": "vFRf6COwKnbw",
      "execution_count": 37,
      "outputs": [
        {
          "output_type": "stream",
          "name": "stdout",
          "text": [
            "(27.58437745115172, 31.569464440845362)\n"
          ]
        }
      ]
    },
    {
      "cell_type": "markdown",
      "source": [
        "### 구간 해석\n",
        "신뢰구간의 결과를 통해 우리는 age의 모평균이 (27.58437745115172, 31.569464440845362) 구간에 95%의 확률로 존재한다는 것을 알 수 있다."
      ],
      "metadata": {
        "id": "YvnHAR8UKpgz"
      },
      "id": "YvnHAR8UKpgz"
    },
    {
      "cell_type": "markdown",
      "source": [
        "#가설검정\n"
      ],
      "metadata": {
        "id": "Xl7nWQS2LHqc"
      },
      "id": "Xl7nWQS2LHqc"
    },
    {
      "cell_type": "markdown",
      "source": [
        "###가설\n",
        "살아남은 사람과 살아남지 못한 사람간의 차이가 존재하는지를 확인하고 싶기 때문에 m1을 살아남은 사람의 평균, m2를 살아남지 못한 사람의 평균이라고 했을 때 가설은 다음과 같다.\n",
        "\n",
        "H0: m1 = m2\n",
        "####H1: m1과 m2는 같지 않다."
      ],
      "metadata": {
        "id": "3ZzKBue_LKRB"
      },
      "id": "3ZzKBue_LKRB"
    },
    {
      "cell_type": "markdown",
      "source": [
        "###검정 선택 후 가정 확인\n",
        "표준편차에 대한 정보가 없기 떄문에 t 검정을 통해 가설검정을 진행"
      ],
      "metadata": {
        "id": "-A3lh7-BL17k"
      },
      "id": "-A3lh7-BL17k"
    },
    {
      "cell_type": "code",
      "source": [
        "df1 = df.loc[df.Survived == 1]\n",
        "df1 = df1['Age']\n",
        "display(df1.shape)\n",
        "\n",
        "df0 = df.loc[df.Survived == 0]\n",
        "df0 = df0['Age']\n",
        "display(df0.shape)"
      ],
      "metadata": {
        "colab": {
          "base_uri": "https://localhost:8080/",
          "height": 54
        },
        "id": "dj14BANdMI_I",
        "outputId": "c8bf7d8c-3c1d-40ef-c614-30c4bf7e7be7"
      },
      "id": "dj14BANdMI_I",
      "execution_count": 40,
      "outputs": [
        {
          "output_type": "display_data",
          "data": {
            "text/plain": [
              "(32,)"
            ]
          },
          "metadata": {}
        },
        {
          "output_type": "display_data",
          "data": {
            "text/plain": [
              "(43,)"
            ]
          },
          "metadata": {}
        }
      ]
    },
    {
      "cell_type": "markdown",
      "source": [
        "두 집단 모두 random하게 추출되었기 떄문에 randomness가 보장되고, 표본의 크기 또한 30보다 크기 때문에 큰 수의 법칙에 의해 normality또한 보장된다. 또한 survived란 column의 값이 다른 두 집단이므로 독립이라고 볼 수 있다."
      ],
      "metadata": {
        "id": "tXIkZ2fHMjzg"
      },
      "id": "tXIkZ2fHMjzg"
    },
    {
      "cell_type": "markdown",
      "source": [
        "### 통계량 계산\n"
      ],
      "metadata": {
        "id": "_VR8hC8uM6K_"
      },
      "id": "_VR8hC8uM6K_"
    },
    {
      "cell_type": "code",
      "source": [
        "stats.ttest_ind_from_stats(df1.mean(), df1.std(), df1.shape[0], df0.mean(), df0.std(), df0.shape[0], equal_var=True, alternative='two-sided')"
      ],
      "metadata": {
        "colab": {
          "base_uri": "https://localhost:8080/"
        },
        "id": "euOV-5Z5M_6y",
        "outputId": "54cc9fbc-4f1d-458f-ea44-625676a6163b"
      },
      "id": "euOV-5Z5M_6y",
      "execution_count": 41,
      "outputs": [
        {
          "output_type": "execute_result",
          "data": {
            "text/plain": [
              "Ttest_indResult(statistic=-0.9138710555393881, pvalue=0.3637931994699718)"
            ]
          },
          "metadata": {},
          "execution_count": 41
        }
      ]
    },
    {
      "cell_type": "markdown",
      "source": [
        "### 결과 해석\n"
      ],
      "metadata": {
        "id": "sq_F2KV-NLs4"
      },
      "id": "sq_F2KV-NLs4"
    },
    {
      "cell_type": "markdown",
      "source": [
        "t 값이 기각역에 존재할 확률인 p값이 유의수준인 0.05보다 크기 때문에 우리는 H0를 기각할 수 없다. 따라서 두 집단의 평균 나이에 큰 차이는 없다고 볼 수 있다."
      ],
      "metadata": {
        "id": "w91IRznNNNpG"
      },
      "id": "w91IRznNNNpG"
    },
    {
      "cell_type": "markdown",
      "id": "01c167f1",
      "metadata": {
        "id": "01c167f1"
      },
      "source": [
        "## Q2. 회귀분석\n",
        "\n",
        "다음 데이터셋에 대해 두가지 방법으로 회귀식을 도출하시오"
      ]
    },
    {
      "cell_type": "code",
      "execution_count": 63,
      "id": "2dbf5392",
      "metadata": {
        "id": "2dbf5392"
      },
      "outputs": [],
      "source": [
        "reviews = pd.read_excel('/content/drive/MyDrive/Colab Notebooks/Ybigta 방학세션/통계기초 회귀분석/reviews (1).xlsx')\n",
        "x = reviews['kakao'].values\n",
        "y = reviews['naver'].values"
      ]
    },
    {
      "cell_type": "markdown",
      "id": "a8562f1b",
      "metadata": {
        "id": "a8562f1b"
      },
      "source": [
        "### Ordinary Least Squares (10점)\n",
        "\n",
        "다음 수식을 numpy를 사용하여 재현해보시오\n",
        "\n",
        "![image.png](data:image/png;base64,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)\n"
      ]
    },
    {
      "cell_type": "code",
      "source": [
        "x = list(x)\n",
        "y = list(y)\n",
        "print(x,y)"
      ],
      "metadata": {
        "colab": {
          "base_uri": "https://localhost:8080/"
        },
        "id": "3DYilRfPObiI",
        "outputId": "cf8b179c-457e-4039-daf4-3c56da117dc6"
      },
      "id": "3DYilRfPObiI",
      "execution_count": 64,
      "outputs": [
        {
          "output_type": "stream",
          "name": "stdout",
          "text": [
            "[4.1, 4.0, 3.9, 4.4, 4.3, 4.3, 3.9, 4.2, 4.2, 3.3, 3.5, 3.7, 4.3, 2.0, 3.5, 3.8, 3.7, 4.2] [4.46, 4.48, 4.53, 4.55, 4.49, 4.81, 4.53, 4.49, 4.5, 4.3, 4.48, 4.33, 4.47, 4.1, 4.51, 4.34, 4.35, 4.77]\n"
          ]
        }
      ]
    },
    {
      "cell_type": "code",
      "source": [
        "xy = 0\n",
        "xx = 0\n",
        "yy = 0\n",
        "for i in range(len(x)):\n",
        "  xy += x[i]*y[i]\n",
        "  xx += x[i]**2\n",
        "  yy += y[i]**2\n",
        "sumx = sum(x)\n",
        "sumy = sum(y)\n",
        "n = len(x)\n",
        "print(xy, xx, yy, sumx, sumy, n)"
      ],
      "metadata": {
        "colab": {
          "base_uri": "https://localhost:8080/"
        },
        "id": "Fppy-D0UOtLe",
        "outputId": "c0915381-8af8-493d-8840-e7351d6fbb88"
      },
      "id": "Fppy-D0UOtLe",
      "execution_count": 65,
      "outputs": [
        {
          "output_type": "stream",
          "name": "stdout",
          "text": [
            "311.02600000000007 272.18999999999994 360.36390000000006 69.3 80.49 18\n"
          ]
        }
      ]
    },
    {
      "cell_type": "code",
      "execution_count": 66,
      "id": "3af8057d",
      "metadata": {
        "id": "3af8057d"
      },
      "outputs": [],
      "source": [
        "m = (n*xy - sumx*sumy)/(n*xx - sumx**2)\n",
        "b = (sumy - m*sumx)/n"
      ]
    },
    {
      "cell_type": "code",
      "source": [
        "print(f'm = {m}')\n",
        "print(f'b = {b}')"
      ],
      "metadata": {
        "colab": {
          "base_uri": "https://localhost:8080/"
        },
        "id": "mjvlRtE7PbvB",
        "outputId": "40f54f0b-2d7f-4806-9405-d29a69d07e28"
      },
      "id": "mjvlRtE7PbvB",
      "execution_count": 67,
      "outputs": [
        {
          "output_type": "stream",
          "name": "stdout",
          "text": [
            "m = 0.21160631383474118\n",
            "b = 3.656982358402913\n"
          ]
        }
      ]
    }
  ],
  "metadata": {
    "kernelspec": {
      "display_name": "Python 3 (ipykernel)",
      "language": "python",
      "name": "python3"
    },
    "language_info": {
      "codemirror_mode": {
        "name": "ipython",
        "version": 3
      },
      "file_extension": ".py",
      "mimetype": "text/x-python",
      "name": "python",
      "nbconvert_exporter": "python",
      "pygments_lexer": "ipython3",
      "version": "3.10.4"
    },
    "colab": {
      "name": "기초통계&회귀분석_과제.ipynb",
      "provenance": [],
      "collapsed_sections": [],
      "include_colab_link": true
    }
  },
  "nbformat": 4,
  "nbformat_minor": 5
}