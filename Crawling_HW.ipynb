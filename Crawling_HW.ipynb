{
 "cells": [
  {
   "cell_type": "code",
   "execution_count": 1,
   "id": "e4fbd1a0",
   "metadata": {},
   "outputs": [],
   "source": [
    "import requests\n",
    "from bs4 import BeautifulSoup\n",
    "url = 'https://movie.naver.com/movie/sdb/rank/rmovie.naver'"
   ]
  },
  {
   "cell_type": "code",
   "execution_count": 2,
   "id": "bb506ca6",
   "metadata": {},
   "outputs": [
    {
     "data": {
      "text/plain": [
       "200"
      ]
     },
     "execution_count": 2,
     "metadata": {},
     "output_type": "execute_result"
    }
   ],
   "source": [
    "res = requests.get(url)\n",
    "res.status_code"
   ]
  },
  {
   "cell_type": "code",
   "execution_count": 3,
   "id": "cffdfd92",
   "metadata": {},
   "outputs": [],
   "source": [
    "html = res.text\n",
    "soup = BeautifulSoup(html, 'html.parser')\n",
    "movies = soup.find_all('div', class_= \"tit3\" )\n"
   ]
  },
  {
   "cell_type": "code",
   "execution_count": 4,
   "id": "a1bafe79",
   "metadata": {},
   "outputs": [
    {
     "name": "stdout",
     "output_type": "stream",
     "text": [
      "['비상선언', '관람객 평점 6.65점', '드라마한국140분  2022.08.03 개봉', '한재림', '송강호, 이병헌, 전도연', '[국내] 12세 관람가', '1,495,336명(08.08 기준)']\n",
      "['한산: 용의 출현', '관람객 평점 8.53점', '액션, 드라마한국129분  2022.07.27 개봉', '김한민', '박해일, 변요한, 안성기', '[국내] 12세 관람가', '4,760,152명(08.08 기준)']\n",
      "['외계+인 1부', '관람객 평점 6.89점', '액션, 판타지, SF한국142분  2022.07.20 개봉', '최동훈', '류준열, 김우빈, 김태리', '[국내] 12세 관람가', '1,501,779명(08.08 기준)']\n",
      "['탑건: 매버릭', '관람객 평점 9.59점', '액션미국130분  2022.06.22 개봉', '조셉 코신스키', '톰 크루즈(매버릭), 마일즈 텔러(루스터), 제니퍼 코넬리(페니)', '[국내] 12세 관람가', '7,477,721명(08.08 기준)']\n",
      "['헤어질 결심', '관람객 평점 8.93점', '멜로/로맨스, 드라마, 서스펜스한국138분  2022.06.29 개봉', '박찬욱', '박해일(해준), 탕웨이(서래), 이정현(정안)', '[국내] 15세 관람가', '1,783,308명(08.08 기준)']\n",
      "['헌트', '관람객 평점 8.52점', '액션, 드라마한국125분  2022.08.10 개봉', '이정재', '이정재(박평호), 정우성(김정도)', '[국내] 15세 관람가']\n",
      "['카터', '관람객 평점 없음', '액션, 모험한국', '정병길', '주원']\n",
      "['프레이', '관람객 평점 없음', '액션, 스릴러, 드라마, 공포, SF미국99분 ', '댄 트라첸버그', '엠버 미드썬더', '[국내] 청소년 관람불가']\n",
      "['미니언즈2', '관람객 평점 7.84점', '애니메이션, 모험, 코미디미국87분  2022.07.20 개봉', '카일 발다', '스티브 카렐(그루 목소리), 타라지 P. 헨슨(벨 바텀 목소리), 양자경', '[국내] 전체 관람가', '1,995,389명(08.08 기준)']\n",
      "['토르: 러브 앤 썬더', '관람객 평점 6.73점', '액션, 모험, 판타지미국119분  2022.07.06 개봉', '타이카 와이티티', '크리스 헴스워스(토르), 나탈리 포트만(제인 포스터), 테사 톰슨(발키리)', '[국내] 12세 관람가', '2,714,787명(08.08 기준)']\n"
     ]
    }
   ],
   "source": [
    "count = 0\n",
    "for movie in movies:\n",
    "    info = []\n",
    "    link = 'https://movie.naver.com/' + movie.select_one('a')['href']\n",
    "    each_movie = requests.get(link)\n",
    "    if int(each_movie.status_code) <200 or int(each_movie.status_code)>=300:\n",
    "        continue\n",
    "    each_movie_soup = BeautifulSoup(each_movie.text, 'html.parser')\n",
    "    \n",
    "    #영화 제목\n",
    "    name = each_movie_soup.find('head').find('title').text.replace(' : 네이버 영화','')\n",
    "    info.append(name)\n",
    "    \n",
    "    #관람객 평점\n",
    "    score = each_movie_soup.find('span','st_off').text\n",
    "    info.append(score)\n",
    "    \n",
    "    #이외 정보\n",
    "    specific_info = each_movie_soup.find('dl','info_spec').find_all('p')\n",
    "    for i in specific_info:\n",
    "        info.append(i.text.replace('\\n','').replace('\\r','').replace('\\t',''))\n",
    "    print(info)\n",
    "    count+=1\n",
    "    if count == 10:\n",
    "        break\n"
   ]
  }
 ],
 "metadata": {
  "kernelspec": {
   "display_name": "Python 3 (ipykernel)",
   "language": "python",
   "name": "python3"
  },
  "language_info": {
   "codemirror_mode": {
    "name": "ipython",
    "version": 3
   },
   "file_extension": ".py",
   "mimetype": "text/x-python",
   "name": "python",
   "nbconvert_exporter": "python",
   "pygments_lexer": "ipython3",
   "version": "3.9.12"
  }
 },
 "nbformat": 4,
 "nbformat_minor": 5
}
