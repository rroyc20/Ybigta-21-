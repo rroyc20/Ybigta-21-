{
 "cells": [
  {
   "cell_type": "markdown",
   "metadata": {},
   "source": [
    "## 과제 1\n",
    "\n",
    "**튜플**을 오름차순 정렬해서 리스트로 반환하는 함수를 만들어주세요.\n",
    "```sorted()``` 함수는 금지입니다. 버블 정렬, 삽입 정렬, 퀵 정렬 등 원하는 정렬 알고리즘을 선택해주세요\n",
    "\n",
    "\n",
    "```python3\n",
    "tup = (3, 4, 1)\n",
    "lst = sort(tup)\n",
    "# [1, 3, 4]가 나와야 함\n",
    "print(lst) \n",
    "```"
   ]
  },
  {
   "cell_type": "code",
   "execution_count": 1,
   "metadata": {},
   "outputs": [],
   "source": [
    "def sort(tup):\n",
    "    # 이 부분은 지우지 말아주세요\n",
    "    if not isinstance(tup, tuple):\n",
    "        raise TypeError(\"tuple을 넣어주세요\")\n",
    "    lst = list(tup)\n",
    "    for i in range(len(lst) -1, 0, -1):\n",
    "        for j in range(i):\n",
    "            if lst[j] > lst[j+1]:\n",
    "                lst[j], lst[j+1] = lst[j+1], lst[j]\n",
    "    return lst"
   ]
  },
  {
   "cell_type": "code",
   "execution_count": 2,
   "metadata": {},
   "outputs": [
    {
     "name": "stdout",
     "output_type": "stream",
     "text": [
      "[1, 3, 8, 9, 11]\n"
     ]
    }
   ],
   "source": [
    "# 결과확인\n",
    "tup = (8, 9, 1, 3, 11)\n",
    "print(sort(tup))"
   ]
  },
  {
   "cell_type": "markdown",
   "metadata": {},
   "source": [
    "## 과제 2\n",
    "\n",
    "1. 'Point' 라는 이름의 클래스를 만들어 주세요.\n",
    "\n",
    "2. 'Point' 클래스는 0이 아닌 정수 x와 y를 인스턴스 변수를 생성자에 입력 받습니다.\n",
    "\n",
    "3. 'Point' 클래스는 위치를 set하는 함수 ```set_position(x, y)```이 있습니다.\n",
    "\n",
    "4. 'Point' 클래스는 위치를 get하는 함수 ```get_position()```이 있습니다.\n",
    "\n",
    "5. 'Point' 클래스는 다른 Point instance와의 거리를 계산하는 ```get_dist()``` 함수가 있습니다.\n",
    "\n",
    "6. 'Point' 클래스는 ```print(Point)```를 했을 때 Point(x: x, y: y)를 출력해야합니다."
   ]
  },
  {
   "cell_type": "code",
   "execution_count": 3,
   "metadata": {},
   "outputs": [],
   "source": [
    "from math import sqrt\n",
    "\n",
    "class Point:\n",
    "    def __init__(self, x, y):\n",
    "        if x==0 or y==0:\n",
    "            raise ValueError('0이 아닌 정수를 입력하세요.')\n",
    "        self.x = x\n",
    "        self.y = y\n",
    "\n",
    "    def get_position(self):\n",
    "        print(f'x: {self.x}, y: {self.y}')\n",
    "\n",
    "    def set_position(self, x, y):\n",
    "        if x==0 or y==0:\n",
    "            raise ValueError('0이 아닌 정수를 입력하세요.')\n",
    "        self.x = x\n",
    "        self.y = y\n",
    "    \n",
    "    def get_dist(self, p2):\n",
    "        return sqrt((self.x - p2.x)**2 + (self.y - p2.y)**2)\n",
    "    \n",
    "    def __str__(self):\n",
    "        return f'Point(x: {self.x}, y: {self.y})'"
   ]
  },
  {
   "cell_type": "code",
   "execution_count": 4,
   "metadata": {},
   "outputs": [
    {
     "name": "stdout",
     "output_type": "stream",
     "text": [
      "x: 1, y: 2\n",
      "x: 10, y: 20\n",
      "17.46424919657298\n",
      "Point(x: 10, y: 20)\n",
      "Point(x: 3, y: 4)\n"
     ]
    }
   ],
   "source": [
    "# 출력\n",
    "# x: 1, y: 2 \n",
    "p1 = Point(1, 2)\n",
    "p1.get_position()\n",
    "\n",
    "# 출력\n",
    "# x: 10, y: 20\n",
    "p1.set_position(10,20)\n",
    "p1.get_position()\n",
    "\n",
    "# (10, 20)과 (3, 4)의 유클리디안 거리를 계산해주세요\n",
    "p2 = Point(3, 4)\n",
    "print(p1.get_dist(p2))\n",
    "\n",
    "# (심화-선택)\n",
    "print(p1)\n",
    "print(p2)"
   ]
  }
 ],
 "metadata": {
  "kernelspec": {
   "display_name": "Python 3.10.5 64-bit",
   "language": "python",
   "name": "python3"
  },
  "language_info": {
   "codemirror_mode": {
    "name": "ipython",
    "version": 3
   },
   "file_extension": ".py",
   "mimetype": "text/x-python",
   "name": "python",
   "nbconvert_exporter": "python",
   "pygments_lexer": "ipython3",
   "version": "3.10.5"
  },
  "orig_nbformat": 4,
  "vscode": {
   "interpreter": {
    "hash": "4f6496ce88bc5e874cf31604ba20f39d6d15fdcc1e83c40ad3ae65902c446a5a"
   }
  }
 },
 "nbformat": 4,
 "nbformat_minor": 2
}
